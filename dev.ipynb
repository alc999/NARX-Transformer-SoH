{
 "cells": [
  {
   "cell_type": "code",
   "execution_count": null,
   "metadata": {},
   "outputs": [],
   "source": [
    "import numpy as np\n",
    "import matplotlib.pyplot as plt\n",
    "from glob import glob\n",
    "from tqdm import tqdm\n",
    "from sklearn.model_selection import train_test_split\n",
    "\n",
    "import torch\n",
    "import torch.nn as nn\n",
    "import torch.optim as optim\n",
    "from torch.utils.data import DataLoader\n",
    "\n",
    "from model import CNN_Transformer\n",
    "from dataset import load_NASA, BatteryDataset\n",
    "\n",
    "\n",
    "NUM_CYCLES = 3\n",
    "# Load data\n",
    "battery_dict = load_NASA(folder='NASA_DATA', scale_data=True)\n",
    "dataset = BatteryDataset(battery_dict, num_cycles=NUM_CYCLES)\n",
    "dataloader = DataLoader(dataset, batch_size=32, shuffle=True)"
   ]
  },
  {
   "cell_type": "code",
   "execution_count": null,
   "metadata": {},
   "outputs": [],
   "source": [
    "def plot_capacity_sequence(battery_dict, num_cycles):\n",
    "    for name in battery_dict:\n",
    "        soh_labels = []\n",
    "        soh_preds = []\n",
    "        data, caps = battery_dict[name]['data'], battery_dict[name]['cap']\n",
    "        for i in range(len(data)-num_cycles):\n",
    "            input_stream = data[i:i+num_cycles]\n",
    "            soh_labels.append(caps[i+num_cycles-1])\n",
    "            # pred = model(data, caps[:-1])\n",
    "            # soh_preds.append(pred)\n",
    "        plt.plot(soh_labels)\n",
    "        plt.show()\n",
    "        break\n"
   ]
  },
  {
   "cell_type": "code",
   "execution_count": null,
   "metadata": {},
   "outputs": [],
   "source": [
    "plot_capacity_sequence(battery_dict, num_cycles=3)"
   ]
  },
  {
   "cell_type": "code",
   "execution_count": null,
   "metadata": {},
   "outputs": [],
   "source": []
  }
 ],
 "metadata": {
  "kernelspec": {
   "display_name": "base",
   "language": "python",
   "name": "python3"
  },
  "language_info": {
   "codemirror_mode": {
    "name": "ipython",
    "version": 3
   },
   "file_extension": ".py",
   "mimetype": "text/x-python",
   "name": "python",
   "nbconvert_exporter": "python",
   "pygments_lexer": "ipython3",
   "version": "3.10.9"
  }
 },
 "nbformat": 4,
 "nbformat_minor": 2
}
